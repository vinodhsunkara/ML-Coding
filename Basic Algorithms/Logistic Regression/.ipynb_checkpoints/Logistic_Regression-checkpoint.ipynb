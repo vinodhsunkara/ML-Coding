{
 "cells": [
  {
   "cell_type": "code",
   "execution_count": 177,
   "id": "cdddbcc9-36f1-4c65-9cd5-88bc61772acd",
   "metadata": {},
   "outputs": [],
   "source": [
    "import numpy as np              # numerical computations\n",
    "import pandas as pd             # data manipulation and analysis\n",
    "import matplotlib.pyplot as plt # plotting and visualization\n",
    "import statsmodels.api as sm    # statistical modeling\n",
    "from sklearn.metrics import confusion_matrix, accuracy_score, precision_score, recall_score, f1_score, roc_auc_score, roc_curve # eval "
   ]
  },
  {
   "cell_type": "code",
   "execution_count": 178,
   "id": "4d4142a6-e426-42b6-9d00-44eeabee8664",
   "metadata": {},
   "outputs": [],
   "source": [
    "data = pd.read_csv(\"breast-cancer.csv\")"
   ]
  },
  {
   "cell_type": "code",
   "execution_count": 179,
   "id": "f2583ed2-fc57-4588-8db2-10062bcfddf4",
   "metadata": {},
   "outputs": [
    {
     "name": "stdout",
     "output_type": "stream",
     "text": [
      "  diagnosis  radius_mean  texture_mean  area_mean\n",
      "0         M        17.99         10.38     1001.0\n",
      "1         M        20.57         17.77     1326.0\n",
      "2         M        19.69         21.25     1203.0\n",
      "3         M        11.42         20.38      386.1\n",
      "4         M        20.29         14.34     1297.0\n"
     ]
    }
   ],
   "source": [
    "print(data[[\"diagnosis\", \"radius_mean\", \"texture_mean\", \"area_mean\"]].head())   # View first few rows"
   ]
  },
  {
   "cell_type": "code",
   "execution_count": 181,
   "id": "3f0d8bb4-5c2c-4fee-b8e7-0662044f599f",
   "metadata": {},
   "outputs": [
    {
     "name": "stdout",
     "output_type": "stream",
     "text": [
      "<class 'pandas.core.frame.DataFrame'>\n",
      "RangeIndex: 569 entries, 0 to 568\n",
      "Data columns (total 32 columns):\n",
      " #   Column                   Non-Null Count  Dtype  \n",
      "---  ------                   --------------  -----  \n",
      " 0   id                       569 non-null    int64  \n",
      " 1   diagnosis                569 non-null    object \n",
      " 2   radius_mean              569 non-null    float64\n",
      " 3   texture_mean             569 non-null    float64\n",
      " 4   perimeter_mean           569 non-null    float64\n",
      " 5   area_mean                569 non-null    float64\n",
      " 6   smoothness_mean          569 non-null    float64\n",
      " 7   compactness_mean         569 non-null    float64\n",
      " 8   concavity_mean           569 non-null    float64\n",
      " 9   concave points_mean      569 non-null    float64\n",
      " 10  symmetry_mean            569 non-null    float64\n",
      " 11  fractal_dimension_mean   569 non-null    float64\n",
      " 12  radius_se                569 non-null    float64\n",
      " 13  texture_se               569 non-null    float64\n",
      " 14  perimeter_se             569 non-null    float64\n",
      " 15  area_se                  569 non-null    float64\n",
      " 16  smoothness_se            569 non-null    float64\n",
      " 17  compactness_se           569 non-null    float64\n",
      " 18  concavity_se             569 non-null    float64\n",
      " 19  concave points_se        569 non-null    float64\n",
      " 20  symmetry_se              569 non-null    float64\n",
      " 21  fractal_dimension_se     569 non-null    float64\n",
      " 22  radius_worst             569 non-null    float64\n",
      " 23  texture_worst            569 non-null    float64\n",
      " 24  perimeter_worst          569 non-null    float64\n",
      " 25  area_worst               569 non-null    float64\n",
      " 26  smoothness_worst         569 non-null    float64\n",
      " 27  compactness_worst        569 non-null    float64\n",
      " 28  concavity_worst          569 non-null    float64\n",
      " 29  concave points_worst     569 non-null    float64\n",
      " 30  symmetry_worst           569 non-null    float64\n",
      " 31  fractal_dimension_worst  569 non-null    float64\n",
      "dtypes: float64(30), int64(1), object(1)\n",
      "memory usage: 142.4+ KB\n",
      "None\n"
     ]
    }
   ],
   "source": [
    "print(data.info()) # Check data types and missing values"
   ]
  },
  {
   "cell_type": "code",
   "execution_count": 168,
   "id": "b386f391-9927-4039-977b-5abbeb1ad282",
   "metadata": {},
   "outputs": [
    {
     "name": "stdout",
     "output_type": "stream",
     "text": [
      "       diagnosis  radius_mean  texture_mean    area_mean\n",
      "count        569   569.000000    569.000000   569.000000\n",
      "unique         2          NaN           NaN          NaN\n",
      "top            B          NaN           NaN          NaN\n",
      "freq         357          NaN           NaN          NaN\n",
      "mean         NaN    14.127292     19.289649   654.889104\n",
      "std          NaN     3.524049      4.301036   351.914129\n",
      "min          NaN     6.981000      9.710000   143.500000\n",
      "25%          NaN    11.700000     16.170000   420.300000\n",
      "50%          NaN    13.370000     18.840000   551.100000\n",
      "75%          NaN    15.780000     21.800000   782.700000\n",
      "max          NaN    28.110000     39.280000  2501.000000\n"
     ]
    }
   ],
   "source": [
    "# Include all columns\n",
    "print(data[[\"diagnosis\", \"radius_mean\", \"texture_mean\", \"area_mean\"]].describe(include='all'))"
   ]
  },
  {
   "cell_type": "code",
   "execution_count": 176,
   "id": "5ad526ab-9a43-4d9a-bdd2-0c887d8355c7",
   "metadata": {},
   "outputs": [
    {
     "name": "stdout",
     "output_type": "stream",
     "text": [
      "[nan]\n",
      "[nan]\n",
      "Series([], Name: count, dtype: int64)\n"
     ]
    }
   ],
   "source": [
    "print(data[\"diagnosis\"].unique()) # Show all unique values\n",
    "print(data[\"diagnosis\"].unique().tolist()) # convert unique values into a list\n",
    "print(data[\"diagnosis\"].value_counts()) # unique value counts"
   ]
  },
  {
   "cell_type": "code",
   "execution_count": 174,
   "id": "82f0642d-9f95-4f60-94df-aa35fdd9fba3",
   "metadata": {},
   "outputs": [
    {
     "name": "stdout",
     "output_type": "stream",
     "text": [
      "Series([], Name: count, dtype: int64)\n"
     ]
    }
   ],
   "source": [
    "data['diagnosis'] = data['diagnosis'].map({'M':1, 'B':0}) # convert the letter label into a binary integer\n",
    "print(data[\"diagnosis\"].value_counts())"
   ]
  },
  {
   "cell_type": "code",
   "execution_count": 171,
   "id": "8770580a-de57-4029-8a1e-148f05b7d072",
   "metadata": {},
   "outputs": [
    {
     "name": "stdout",
     "output_type": "stream",
     "text": [
      "Index(['id', 'diagnosis', 'radius_mean', 'texture_mean', 'perimeter_mean',\n",
      "       'area_mean', 'smoothness_mean', 'compactness_mean', 'concavity_mean',\n",
      "       'concave points_mean', 'symmetry_mean', 'fractal_dimension_mean',\n",
      "       'radius_se', 'texture_se', 'perimeter_se', 'area_se', 'smoothness_se',\n",
      "       'compactness_se', 'concavity_se', 'concave points_se', 'symmetry_se',\n",
      "       'fractal_dimension_se', 'radius_worst', 'texture_worst',\n",
      "       'perimeter_worst', 'area_worst', 'smoothness_worst',\n",
      "       'compactness_worst', 'concavity_worst', 'concave points_worst',\n",
      "       'symmetry_worst', 'fractal_dimension_worst'],\n",
      "      dtype='object')\n"
     ]
    }
   ],
   "source": [
    "# Declare Dependent and Independent Variables\n",
    "print(data.columns)\n",
    "# Using a smaller set of columns for simplicity\n",
    "Y = data[\"diagnosis\"]\n",
    "cols = 'area_mean', 'smoothness_mean', 'compactness_mean', 'concavity_mean', 'concave points_mean', 'symmetry_mean'\n",
    "X = data[list(cols)]\n",
    "\n",
    "X = sm.add_constant(X)  # add intercept"
   ]
  },
  {
   "cell_type": "code",
   "execution_count": 147,
   "id": "dc7dd679-f93a-43eb-8e83-6eb377af9288",
   "metadata": {},
   "outputs": [
    {
     "name": "stdout",
     "output_type": "stream",
     "text": [
      "Optimization terminated successfully.\n",
      "         Current function value: 0.176703\n",
      "         Iterations 9\n",
      "                           Logit Regression Results                           \n",
      "==============================================================================\n",
      "Dep. Variable:              diagnosis   No. Observations:                  569\n",
      "Model:                          Logit   Df Residuals:                      562\n",
      "Method:                           MLE   Df Model:                            6\n",
      "Date:                Thu, 02 Oct 2025   Pseudo R-squ.:                  0.7324\n",
      "Time:                        21:37:44   Log-Likelihood:                -100.54\n",
      "converged:                       True   LL-Null:                       -375.72\n",
      "Covariance Type:            nonrobust   LLR p-value:                1.185e-115\n",
      "=======================================================================================\n",
      "                          coef    std err          z      P>|z|      [0.025      0.975]\n",
      "---------------------------------------------------------------------------------------\n",
      "const                 -13.5509      2.915     -4.649      0.000     -19.264      -7.838\n",
      "area_mean               0.0093      0.002      5.073      0.000       0.006       0.013\n",
      "smoothness_mean        26.3901     24.771      1.065      0.287     -22.160      74.940\n",
      "compactness_mean       -9.9692      8.468     -1.177      0.239     -26.566       6.628\n",
      "concavity_mean         10.3927      6.876      1.511      0.131      -3.084      23.869\n",
      "concave points_mean    57.1094     22.336      2.557      0.011      13.332     100.887\n",
      "symmetry_mean          10.9198      9.561      1.142      0.253      -7.819      29.659\n",
      "=======================================================================================\n"
     ]
    }
   ],
   "source": [
    "# Fit Logistic Regression (Logit Model)\n",
    "logit_model = sm.Logit(Y, X).fit()\n",
    "print(logit_model.summary())\n",
    "# Understanding the summary:\n",
    "# Coefficients (β values) → effect of each feature\n",
    "# p-values → test significance of predictors\n",
    "# Pseudo R² → how well the model explains variation\n",
    "# -------------------\n",
    "# To decide which columns are important predictors, look mainly at the p-values (P>|z|) in the results.\n",
    "\n",
    "# If p < 0.05, the coefficient is statistically significant (important predictor).\n",
    "\n",
    "# Coefficient sign tells you direction (+ increases odds of malignant, − decreases odds)."
   ]
  },
  {
   "cell_type": "code",
   "execution_count": 148,
   "id": "d215b0b3-f6dc-466f-80e5-cebef2df9d61",
   "metadata": {},
   "outputs": [
    {
     "name": "stdout",
     "output_type": "stream",
     "text": [
      "   area_mean  diagnosis  predict_prob  predict_class\n",
      "0     1001.0          1      0.999966              1\n",
      "1     1326.0          1      0.999209              1\n",
      "2     1203.0          1      0.999974              1\n",
      "3      386.1          1      0.911182              1\n",
      "4     1297.0          1      0.999947              1\n"
     ]
    }
   ],
   "source": [
    "# PREDICTIONS\n",
    "data[\"predict_prob\"] = logit_model.predict(X)\n",
    "data[\"predict_class\"] = (data[\"predict_prob\"] >= 0.5).astype(int)\n",
    "print(data[[\"area_mean\", \"diagnosis\", \"predict_prob\", \"predict_class\"]].head())"
   ]
  },
  {
   "cell_type": "code",
   "execution_count": 151,
   "id": "630f52c9-3716-4e60-ba3a-f43458e6771a",
   "metadata": {},
   "outputs": [
    {
     "name": "stdout",
     "output_type": "stream",
     "text": [
      "[[337  20]\n",
      " [ 27 185]]\n",
      "accuracy score:  0.9173989455184535\n",
      "Precision:  0.9024390243902439\n",
      "Recall:  0.8726415094339622\n",
      "F1:  0.8872901678657075\n",
      "ROC AUC:  0.9796918767507004\n"
     ]
    },
    {
     "name": "stderr",
     "output_type": "stream",
     "text": [
      "/var/folders/9k/tyl0clg53m9cqjbnx7cl3q780000gn/T/ipykernel_1154/599020718.py:27: UserWarning: No artists with labels found to put in legend.  Note that artists whose label start with an underscore are ignored when legend() is called with no argument.\n",
      "  plt.legend()\n"
     ]
    },
    {
     "data": {
      "image/png": "[encoded data removed]",
      "text/plain": [
       "<Figure size 640x480 with 1 Axes>"
      ]
     },
     "metadata": {},
     "output_type": "display_data"
    }
   ],
   "source": [
    "# Model Evaluation\n",
    "\n",
    "cm = confusion_matrix(Y, data[\"predict_class\"])\n",
    "print(cm)\n",
    "\n",
    "acc = accuracy_score(Y, data[\"predict_class\"])\n",
    "print(\"accuracy score: \", acc)\n",
    "\n",
    "prec = precision_score(Y, data[\"predict_class\"])\n",
    "print(\"Precision: \", prec)\n",
    "\n",
    "recall = recall_score(Y, data[\"predict_class\"])\n",
    "print(\"Recall: \", recall)\n",
    "\n",
    "f1 = f1_score(Y, data[\"predict_class\"])\n",
    "print(\"F1: \", f1)\n",
    "\n",
    "# ROC-AUC (use predicted probabilities, not hard classes)\n",
    "auc = roc_auc_score(Y, data[\"predict_prob\"])\n",
    "print(\"ROC AUC: \", auc)\n",
    "\n",
    "fpr, tpr, thresholds = roc_curve(Y, data[\"predict_prob\"])\n",
    "plt.plot(fpr, tpr)\n",
    "plt.xlabel(\"False Positive Rate\")\n",
    "plt.ylabel(\"True Positive Rate\")\n",
    "plt.title(\"ROC Curve\")\n",
    "plt.legend()\n",
    "plt.show()"
   ]
  },
  {
   "cell_type": "code",
   "execution_count": null,
   "id": "9d6fc973-c802-4278-9a53-70057c40f3c2",
   "metadata": {},
   "outputs": [],
   "source": []
  }
 ],
 "metadata": {
  "kernelspec": {
   "display_name": "Python 3 (ipykernel)",
   "language": "python",
   "name": "python3"
  },
  "language_info": {
   "codemirror_mode": {
    "name": "ipython",
    "version": 3
   },
   "file_extension": ".py",
   "mimetype": "text/x-python",
   "name": "python",
   "nbconvert_exporter": "python",
   "pygments_lexer": "ipython3",
   "version": "3.9.6"
  }
 },
 "nbformat": 4,
 "nbformat_minor": 5
}
